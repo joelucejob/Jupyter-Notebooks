{
 "cells": [
  {
   "cell_type": "code",
   "execution_count": 126,
   "metadata": {},
   "outputs": [],
   "source": [
    "import pandas as pd\n",
    "df_train = pd.read_csv('train.csv', encoding='utf-8')\n",
    "df_test = pd.read_csv('test.csv', encoding='utf-8')"
   ]
  },
  {
   "cell_type": "code",
   "execution_count": 127,
   "metadata": {},
   "outputs": [],
   "source": [
    "import re\n",
    "def preprocessor(text):\n",
    "    text = re.sub('[\\W]+', ' ', text.lower())\n",
    "    return text"
   ]
  },
  {
   "cell_type": "code",
   "execution_count": 128,
   "metadata": {},
   "outputs": [],
   "source": [
    "df_train['text'] = df_train['text'].apply(preprocessor)"
   ]
  },
  {
   "cell_type": "code",
   "execution_count": 129,
   "metadata": {},
   "outputs": [],
   "source": [
    "from sklearn.preprocessing import LabelEncoder\n",
    "class_le = LabelEncoder()\n",
    "df_train['author'] = class_le.fit_transform(df_train['author'].values)"
   ]
  },
  {
   "cell_type": "code",
   "execution_count": 130,
   "metadata": {},
   "outputs": [],
   "source": [
    "from sklearn.model_selection import train_test_split\n",
    "X, y = df_train.iloc[:, df_train.columns.get_loc('text')].values, \\\n",
    "       df_train.iloc[:, df_train.columns.get_loc('author')].values\n",
    "X_train, X_test, y_train, y_test = train_test_split(X, y,\n",
    "                                                   test_size=0.3,\n",
    "                                                   random_state=42,\n",
    "                                                   stratify=y)"
   ]
  },
  {
   "cell_type": "code",
   "execution_count": 131,
   "metadata": {},
   "outputs": [],
   "source": [
    "def tokenizer(text):\n",
    "    return text.split()"
   ]
  },
  {
   "cell_type": "code",
   "execution_count": 132,
   "metadata": {},
   "outputs": [],
   "source": [
    "from nltk.stem.porter import PorterStemmer\n",
    "porter = PorterStemmer()\n",
    "def tokenizer_porter(text):\n",
    "    return [porter.stem(word) for word in text.split()]"
   ]
  },
  {
   "cell_type": "code",
   "execution_count": 133,
   "metadata": {},
   "outputs": [],
   "source": [
    "from nltk.stem import WordNetLemmatizer\n",
    "lemma = WordNetLemmatizer()\n",
    "def tokenizer_lemma(text):\n",
    "    return [lemma.lemmatize(word) for word in text.split()]"
   ]
  },
  {
   "cell_type": "code",
   "execution_count": 134,
   "metadata": {},
   "outputs": [],
   "source": [
    "import pickle\n",
    "import os\n",
    "bag_1gram_lr_pipe = pickle.load(open(os.path.join('pkl_objects', 'bag_1gram_lr_pipe.pkl'), 'rb'))\n",
    "bag_2gram_lr_pipe = pickle.load(open(os.path.join('pkl_objects', 'bag_2gram_lr_pipe.pkl'), 'rb'))\n",
    "\n",
    "tfidf_1gram_lr_pipe = pickle.load(open(os.path.join('pkl_objects', 'tfidf_1gram_lr_pipe.pkl'), 'rb'))\n",
    "tfidf_2gram_lr_pipe = pickle.load(open(os.path.join('pkl_objects', 'tfidf_2gram_lr_pipe.pkl'), 'rb'))\n",
    "tfidf_3gram_lr_pipe = pickle.load(open(os.path.join('pkl_objects', 'tfidf_3gram_lr_pipe.pkl'), 'rb'))"
   ]
  },
  {
   "cell_type": "code",
   "execution_count": 135,
   "metadata": {},
   "outputs": [],
   "source": [
    "from sklearn.ensemble import VotingClassifier\n",
    "\n",
    "voting_hard_clf = VotingClassifier(\n",
    "                                estimators=[\n",
    "                                    ('bag_1gram', bag_1gram_lr_pipe), \n",
    "                                    ('bag_2gram', bag_2gram_lr_pipe), \n",
    "                                    ('tfidf_1gram', tfidf_1gram_lr_pipe),\n",
    "                                    ('tfidf_2gram', tfidf_2gram_lr_pipe),\n",
    "                                    #('tfidf_3gram', tfidf_3gram_lr_pipe)\n",
    "                                ],\n",
    "                                voting='hard')\n",
    "\n",
    "voting_soft_clf = VotingClassifier(\n",
    "                                estimators=[\n",
    "                                    ('bag_1gram', bag_1gram_lr_pipe), \n",
    "                                    ('bag_2gram', bag_2gram_lr_pipe), \n",
    "                                    ('tfidf_1gram', tfidf_1gram_lr_pipe),\n",
    "                                    ('tfidf_2gram', tfidf_2gram_lr_pipe),\n",
    "                                    #('tfidf_3gram', tfidf_3gram_lr_pipe)\n",
    "                                ],\n",
    "                                voting='soft')\n",
    "\n",
    "voting_hard_clf.fit(X_train, y_train)\n",
    "voting_soft_clf.fit(X_train, y_train)\n",
    "\n",
    "trained_clf = [bag_1gram_lr_pipe, \n",
    "               bag_2gram_lr_pipe, \n",
    "               tfidf_1gram_lr_pipe, \n",
    "               tfidf_2gram_lr_pipe]\n",
    "               #tfidf_3gram_lr_pipe]\n",
    "\n",
    "vote_clf = [voting_hard_clf, \n",
    "            voting_soft_clf]\n",
    "\n",
    "all_clf = trained_clf + vote_clf"
   ]
  },
  {
   "cell_type": "code",
   "execution_count": 136,
   "metadata": {},
   "outputs": [
    {
     "name": "stdout",
     "output_type": "stream",
     "text": [
      "0.7008852570650324\n",
      "0.5929519918283963\n",
      "0.785665645216207\n",
      "0.5929519918283963\n"
     ]
    },
    {
     "name": "stderr",
     "output_type": "stream",
     "text": [
      "/usr/local/lib/python2.7/dist-packages/sklearn/preprocessing/label.py:151: DeprecationWarning: The truth value of an empty array is ambiguous. Returning False, but in future this will result in an error. Use `array.size > 0` to check that an array is not empty.\n",
      "  if diff:\n"
     ]
    },
    {
     "name": "stdout",
     "output_type": "stream",
     "text": [
      "0.6074225400068096\n",
      "0.7301668369084099\n"
     ]
    },
    {
     "name": "stderr",
     "output_type": "stream",
     "text": [
      "/usr/local/lib/python2.7/dist-packages/sklearn/preprocessing/label.py:151: DeprecationWarning: The truth value of an empty array is ambiguous. Returning False, but in future this will result in an error. Use `array.size > 0` to check that an array is not empty.\n",
      "  if diff:\n"
     ]
    }
   ],
   "source": [
    "from sklearn.metrics import accuracy_score\n",
    "for clf in (all_clf):\n",
    "    if clf not in trained_clf:\n",
    "        clf.fit(X_train, y_train)\n",
    "    y_pred = clf.predict(X_test)\n",
    "    print(accuracy_score(y_test, y_pred))"
   ]
  }
 ],
 "metadata": {
  "kernelspec": {
   "display_name": "Python 2",
   "language": "python",
   "name": "python2"
  },
  "language_info": {
   "codemirror_mode": {
    "name": "ipython",
    "version": 2
   },
   "file_extension": ".py",
   "mimetype": "text/x-python",
   "name": "python",
   "nbconvert_exporter": "python",
   "pygments_lexer": "ipython2",
   "version": "2.7.12"
  }
 },
 "nbformat": 4,
 "nbformat_minor": 2
}
